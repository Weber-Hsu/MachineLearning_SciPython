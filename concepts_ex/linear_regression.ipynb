{
 "cells": [
  {
   "cell_type": "code",
   "execution_count": 2,
   "metadata": {},
   "outputs": [],
   "source": [
    "import numpy as np\n",
    "from matplotlib.pylab import subplots\n",
    "from sklearn.linear_model import LinearRegression\n",
    "X = np.arange(10) # create some data\n",
    "Y = X+np.random.randn(10) # linear with noise"
   ]
  },
  {
   "cell_type": "code",
   "execution_count": 3,
   "metadata": {
    "collapsed": true
   },
   "outputs": [],
   "source": [
    "lr = LinearRegression() # create model"
   ]
  },
  {
   "cell_type": "code",
   "execution_count": 6,
   "metadata": {},
   "outputs": [
    {
     "data": {
      "text/plain": [
       "LinearRegression(copy_X=True, fit_intercept=True, n_jobs=1, normalize=False)"
      ]
     },
     "execution_count": 6,
     "metadata": {},
     "output_type": "execute_result"
    }
   ],
   "source": [
    "X,Y = X.reshape((-1,1)), Y.reshape((-1,1))\n",
    "lr.fit(X,Y)"
   ]
  },
  {
   "cell_type": "code",
   "execution_count": 7,
   "metadata": {},
   "outputs": [
    {
     "data": {
      "text/plain": [
       "array([[ 0.99969864]])"
      ]
     },
     "execution_count": 7,
     "metadata": {},
     "output_type": "execute_result"
    }
   ],
   "source": [
    "lr.coef_"
   ]
  },
  {
   "cell_type": "code",
   "execution_count": 8,
   "metadata": {},
   "outputs": [
    {
     "data": {
      "text/plain": [
       "0.8633892779385739"
      ]
     },
     "execution_count": 8,
     "metadata": {},
     "output_type": "execute_result"
    }
   ],
   "source": [
    "lr.score(X,Y)"
   ]
  },
  {
   "cell_type": "code",
   "execution_count": 10,
   "metadata": {},
   "outputs": [],
   "source": [
    "xi = np.linspace(0,10,15) # more points to draw\n",
    "xi = xi.reshape((-1,1)) # reshape as columns\n",
    "yp = lr.predict(xi)"
   ]
  },
  {
   "cell_type": "code",
   "execution_count": 12,
   "metadata": {},
   "outputs": [
    {
     "data": {
      "text/plain": [
       "array([[  0.        ],\n",
       "       [  0.71428571],\n",
       "       [  1.42857143],\n",
       "       [  2.14285714],\n",
       "       [  2.85714286],\n",
       "       [  3.57142857],\n",
       "       [  4.28571429],\n",
       "       [  5.        ],\n",
       "       [  5.71428571],\n",
       "       [  6.42857143],\n",
       "       [  7.14285714],\n",
       "       [  7.85714286],\n",
       "       [  8.57142857],\n",
       "       [  9.28571429],\n",
       "       [ 10.        ]])"
      ]
     },
     "execution_count": 12,
     "metadata": {},
     "output_type": "execute_result"
    }
   ],
   "source": [
    "xi"
   ]
  },
  {
   "cell_type": "code",
   "execution_count": 13,
   "metadata": {},
   "outputs": [
    {
     "data": {
      "text/plain": [
       "array([[  0.73750519],\n",
       "       [  1.45157565],\n",
       "       [  2.16564611],\n",
       "       [  2.87971657],\n",
       "       [  3.59378703],\n",
       "       [  4.30785749],\n",
       "       [  5.02192795],\n",
       "       [  5.73599841],\n",
       "       [  6.45006887],\n",
       "       [  7.16413933],\n",
       "       [  7.87820979],\n",
       "       [  8.59228025],\n",
       "       [  9.30635071],\n",
       "       [ 10.02042117],\n",
       "       [ 10.73449163]])"
      ]
     },
     "execution_count": 13,
     "metadata": {},
     "output_type": "execute_result"
    }
   ],
   "source": [
    "yp"
   ]
  },
  {
   "cell_type": "code",
   "execution_count": null,
   "metadata": {
    "collapsed": true
   },
   "outputs": [],
   "source": []
  }
 ],
 "metadata": {
  "kernelspec": {
   "display_name": "Python 2",
   "language": "python",
   "name": "python2"
  },
  "language_info": {
   "codemirror_mode": {
    "name": "ipython",
    "version": 2
   },
   "file_extension": ".py",
   "mimetype": "text/x-python",
   "name": "python",
   "nbconvert_exporter": "python",
   "pygments_lexer": "ipython2",
   "version": "2.7.12"
  }
 },
 "nbformat": 4,
 "nbformat_minor": 2
}
